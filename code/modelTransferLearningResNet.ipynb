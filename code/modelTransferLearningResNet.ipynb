{
 "cells": [
  {
   "cell_type": "markdown",
   "metadata": {},
   "source": [
    "# GPU check + imports\n"
   ]
  },
  {
   "cell_type": "code",
   "execution_count": 2,
   "metadata": {},
   "outputs": [
    {
     "name": "stdout",
     "output_type": "stream",
     "text": [
      "Dispositivos disponibles:\n",
      "PhysicalDevice(name='/physical_device:CPU:0', device_type='CPU')\n",
      "PhysicalDevice(name='/physical_device:GPU:0', device_type='GPU')\n",
      "WARNING:tensorflow:From C:\\Users\\migue\\AppData\\Local\\Temp\\ipykernel_21976\\328158102.py:9: is_gpu_available (from tensorflow.python.framework.test_util) is deprecated and will be removed in a future version.\n",
      "Instructions for updating:\n",
      "Use `tf.config.list_physical_devices('GPU')` instead.\n",
      "\n",
      "✅ TensorFlow está usando la GPU.\n",
      "GPU en uso: [PhysicalDevice(name='/physical_device:GPU:0', device_type='GPU')]\n"
     ]
    }
   ],
   "source": [
    "import tensorflow as tf\n",
    "\n",
    "# Ver dispositivos disponibles\n",
    "print(\"Dispositivos disponibles:\")\n",
    "for device in tf.config.list_physical_devices():\n",
    "    print(device)\n",
    "\n",
    "# Ver si TensorFlow está usando GPU\n",
    "if tf.test.is_gpu_available():\n",
    "    print(\"\\n✅ TensorFlow está usando la GPU.\")\n",
    "    print(\"GPU en uso:\", tf.config.experimental.list_physical_devices('GPU'))\n",
    "else:\n",
    "    print(\"\\n❌ TensorFlow NO está usando la GPU.\")\n"
   ]
  },
  {
   "cell_type": "code",
   "execution_count": 3,
   "metadata": {},
   "outputs": [],
   "source": [
    "gpus = tf.config.list_physical_devices('GPU')\n",
    "if gpus:\n",
    "    for gpu in gpus:\n",
    "        tf.config.experimental.set_memory_growth(gpu, False)  # Usar toda la memoria"
   ]
  },
  {
   "cell_type": "code",
   "execution_count": 14,
   "metadata": {},
   "outputs": [],
   "source": [
    "import numpy as np\n",
    "import itertools\n",
    "import tensorflow as tf\n",
    "from tensorflow.keras import layers, models, applications\n",
    "from tensorflow.keras.applications import ResNet50, VGG19\n",
    "from tensorflow.keras.models import Model\n",
    "from tensorflow.keras.optimizers import Adam\n",
    "from tensorflow.keras.preprocessing.image import ImageDataGenerator\n",
    "from keras.layers import GlobalAveragePooling2D, Activation, Dense\n",
    "from sklearn.metrics import confusion_matrix, classification_report\n",
    "from sklearn.model_selection import train_test_split\n",
    "import matplotlib.pyplot as plt\n",
    "import seaborn as sns\n",
    "import functools\n",
    "import os\n",
    "import random\n",
    "import shutil\n",
    "import pandas as pd\n",
    "\n",
    "\n",
    "\n"
   ]
  },
  {
   "cell_type": "markdown",
   "metadata": {},
   "source": [
    "# ACTUAL MODEL"
   ]
  },
  {
   "cell_type": "markdown",
   "metadata": {},
   "source": [
    "## CREACION DE DATAFRAME"
   ]
  },
  {
   "cell_type": "code",
   "execution_count": 5,
   "metadata": {},
   "outputs": [
    {
     "name": "stdout",
     "output_type": "stream",
     "text": [
      "                                              image_path      label\n",
      "86995  ../data/morton14k\\f_youtubeHTML5_1_9880.bin_mo...  streaming\n",
      "86996  ../data/morton14k\\f_youtubeHTML5_1_9888.bin_mo...  streaming\n",
      "86997  ../data/morton14k\\f_youtubeHTML5_1_990.bin_mor...  streaming\n",
      "86998  ../data/morton14k\\f_youtubeHTML5_1_9959.bin_mo...  streaming\n",
      "86999  ../data/morton14k\\f_youtubeHTML5_1_9987.bin_mo...  streaming\n",
      "       Cantidad  count\n",
      "0          chat  14500\n",
      "1         email  14500\n",
      "2         voice  14500\n",
      "3     streaming  14500\n",
      "4  filetransfer  14500\n",
      "5           p2p  14500\n"
     ]
    }
   ],
   "source": [
    "# INDICAR RUTA CON LAS IMAGENES!!!\n",
    "data_dir = \"../data/morton14k\"\n",
    "\n",
    "CLASS_RULES = {\n",
    "    \"chat\": [\"chat\"],\n",
    "    \"email\": [\"email\"],\n",
    "    \"voice\": [\"audio\", \"voipbuster\"],\n",
    "    \"streaming\": [\"vimeo\", \"netflix\", \"spotify\", \"youtube\", \"video\"],\n",
    "    \"filetransfer\": [\"sftp\", \"ftps\", \"files\", \"file\"],\n",
    "    \"p2p\": [\"bittorrent\"]\n",
    "}\n",
    "\n",
    "# Función para asignar una etiqueta según el nombre del archivo\n",
    "def get_label(filename):\n",
    "    for category, keywords in CLASS_RULES.items():\n",
    "        if any(keyword in filename.lower() for keyword in keywords):\n",
    "            return category\n",
    "    return None\n",
    "\n",
    "image_paths = []\n",
    "labels = []\n",
    "\n",
    "for root, _, files in os.walk(data_dir):  # Recorre todas las carpetas y archivos\n",
    "    for file in files:\n",
    "        if file.endswith(\".png\"):\n",
    "            label = get_label(file)\n",
    "            if label:\n",
    "                image_paths.append(os.path.join(root, file))\n",
    "                labels.append(label)\n",
    "\n",
    "# Crear DataFrame\n",
    "df = pd.DataFrame({\"image_path\": image_paths, \"label\": labels})\n",
    "\n",
    "print(df.tail())\n",
    "print(df[\"label\"].value_counts().to_frame().reset_index().rename(columns={\"index\": \"Etiqueta\", \"label\": \"Cantidad\"}))\n"
   ]
  },
  {
   "cell_type": "code",
   "execution_count": 6,
   "metadata": {},
   "outputs": [
    {
     "name": "stdout",
     "output_type": "stream",
     "text": [
      "(32, 32, 3) [1. 0. 0. 0. 0. 0.]\n"
     ]
    }
   ],
   "source": [
    "# Crear un diccionario para convertir etiquetas en números\n",
    "label_map = {label: idx for idx, label in enumerate(df[\"label\"].unique())}\n",
    "df[\"label\"] = df[\"label\"].map(label_map)  # Convertimos a números\n",
    "\n",
    "# Función para cargar imágenes y etiquetas\n",
    "# Función para cargar imágenes y convertir etiquetas a one-hot encoding\n",
    "def load_image_label(path, label):\n",
    "    img = tf.io.read_file(path)\n",
    "    img = tf.image.decode_png(img, channels=3)  # Convertir PNG a tensor\n",
    "    img = tf.image.resize(img, (32, 32))  # Asegurar tamaño correcto\n",
    "    img = img / 255.0  # Normalización [0,1]\n",
    "\n",
    "    label = tf.one_hot(label, depth=6)  # Convertir etiqueta a one-hot\n",
    "    return img, label\n",
    "\n",
    "\n",
    "# Convertir el DataFrame en un Dataset de TensorFlow\n",
    "dataset = tf.data.Dataset.from_tensor_slices((df[\"image_path\"].values, df[\"label\"].values))\n",
    "dataset = dataset.map(load_image_label)\n",
    "\n",
    "# Mostrar un ejemplo\n",
    "for img, label in dataset.take(1):  \n",
    "    print(img.shape, label.numpy())"
   ]
  },
  {
   "cell_type": "code",
   "execution_count": 7,
   "metadata": {},
   "outputs": [
    {
     "name": "stdout",
     "output_type": "stream",
     "text": [
      "Distribución de clases en el dataset original:\n",
      "\n",
      "label\n",
      "0    14500\n",
      "1    14500\n",
      "2    14500\n",
      "3    14500\n",
      "4    14500\n",
      "5    14500\n",
      "Name: count, dtype: int64\n",
      "\n",
      "Distribución de clases en el dataset de entrenamiento:\n",
      "label\n",
      "1    11600\n",
      "2    11600\n",
      "5    11600\n",
      "0    11600\n",
      "4    11600\n",
      "3    11600\n",
      "Name: count, dtype: int64\n",
      "\n",
      "Distribución de clases en el dataset de validación:\n",
      "label\n",
      "1    2900\n",
      "2    2900\n",
      "5    2900\n",
      "4    2900\n",
      "3    2900\n",
      "0    2900\n",
      "Name: count, dtype: int64\n",
      "\n",
      "Total imágenes en entrenamiento: 69600\n",
      "Total imágenes en validación: 17400\n"
     ]
    }
   ],
   "source": [
    "## SEPARACION DE TRAINING Y VALIDATION DATA\n",
    "\n",
    "# Ver distribución de clases antes de dividir\n",
    "print(\"Distribución de clases en el dataset original:\\n\")\n",
    "print(df[\"label\"].value_counts())\n",
    "\n",
    "# Dividir en entrenamiento y validación asegurando la estratificación\n",
    "train_df, val_df = train_test_split(df, test_size=0.2, stratify=df[\"label\"], random_state=42)\n",
    "\n",
    "# Verificar distribución después de dividir\n",
    "print(\"\\nDistribución de clases en el dataset de entrenamiento:\")\n",
    "print(train_df[\"label\"].value_counts())\n",
    "\n",
    "print(\"\\nDistribución de clases en el dataset de validación:\")\n",
    "print(val_df[\"label\"].value_counts())\n",
    "\n",
    "# Crear datasets de TensorFlow\n",
    "train_dataset = tf.data.Dataset.from_tensor_slices((train_df[\"image_path\"].values, train_df[\"label\"].values))\n",
    "val_dataset = tf.data.Dataset.from_tensor_slices((val_df[\"image_path\"].values, val_df[\"label\"].values))\n",
    "\n",
    "# Aplicar la función de carga de imágenes\n",
    "train_dataset = train_dataset.map(load_image_label)\n",
    "val_dataset = val_dataset.map(load_image_label)\n",
    "\n",
    "# Contar elementos en los datasets de TensorFlow\n",
    "train_count = sum(1 for _ in train_dataset)\n",
    "val_count = sum(1 for _ in val_dataset)\n",
    "\n",
    "print(f\"\\nTotal imágenes en entrenamiento: {train_count}\")\n",
    "print(f\"Total imágenes en validación: {val_count}\")\n",
    "\n",
    "# Mezclar, agrupar en batches y optimizar\n",
    "batch_size = 64\n",
    "AUTOTUNE = tf.data.AUTOTUNE\n",
    "\n",
    "train_dataset = train_dataset.shuffle(1000).batch(batch_size).prefetch(AUTOTUNE)\n",
    "val_dataset = val_dataset.batch(batch_size).prefetch(AUTOTUNE)\n"
   ]
  },
  {
   "cell_type": "markdown",
   "metadata": {},
   "source": [
    "## MODELO"
   ]
  },
  {
   "cell_type": "code",
   "execution_count": null,
   "metadata": {},
   "outputs": [
    {
     "name": "stdout",
     "output_type": "stream",
     "text": [
      "Epoch 1/10\n",
      "1088/1088 [==============================] - 32s 27ms/step - loss: 1.5498 - accuracy: 0.3480 - val_loss: 1.4888 - val_accuracy: 0.3795\n",
      "Epoch 2/10\n",
      "1088/1088 [==============================] - 29s 26ms/step - loss: 1.4729 - accuracy: 0.3871 - val_loss: 1.4624 - val_accuracy: 0.3825\n",
      "Epoch 3/10\n",
      "1088/1088 [==============================] - 29s 26ms/step - loss: 1.4493 - accuracy: 0.3965 - val_loss: 1.4494 - val_accuracy: 0.3985\n",
      "Epoch 4/10\n",
      "1088/1088 [==============================] - 29s 26ms/step - loss: 1.4340 - accuracy: 0.4069 - val_loss: 1.4353 - val_accuracy: 0.4116\n",
      "Epoch 5/10\n",
      "1088/1088 [==============================] - 29s 26ms/step - loss: 1.4231 - accuracy: 0.4170 - val_loss: 1.4176 - val_accuracy: 0.4281\n",
      "Epoch 6/10\n",
      "1088/1088 [==============================] - 29s 27ms/step - loss: 1.4116 - accuracy: 0.4238 - val_loss: 1.4187 - val_accuracy: 0.4216\n",
      "Epoch 7/10\n",
      "1088/1088 [==============================] - 29s 26ms/step - loss: 1.4035 - accuracy: 0.4288 - val_loss: 1.3971 - val_accuracy: 0.4402\n",
      "Epoch 8/10\n",
      "1088/1088 [==============================] - 29s 27ms/step - loss: 1.3946 - accuracy: 0.4354 - val_loss: 1.4051 - val_accuracy: 0.4349\n",
      "Epoch 9/10\n",
      "1088/1088 [==============================] - 29s 27ms/step - loss: 1.3875 - accuracy: 0.4390 - val_loss: 1.3800 - val_accuracy: 0.4404\n",
      "Epoch 10/10\n",
      "1088/1088 [==============================] - 29s 26ms/step - loss: 1.3798 - accuracy: 0.4433 - val_loss: 1.3709 - val_accuracy: 0.4543\n",
      "272/272 [==============================] - 6s 19ms/step\n"
     ]
    },
    {
     "data": {
      "image/png": "[encoded data removed]",
      "text/plain": [
       "<Figure size 800x600 with 2 Axes>"
      ]
     },
     "metadata": {},
     "output_type": "display_data"
    },
    {
     "name": "stdout",
     "output_type": "stream",
     "text": [
      "272/272 [==============================] - 6s 23ms/step - loss: 1.3709 - accuracy: 0.4543\n",
      "Test Accuracy after fine-tuning: 45.43%\n"
     ]
    }
   ],
   "source": [
    "# Parámetros\n",
    "IMG_SIZE = (32, 32)\n",
    "BATCH_SIZE = 128\n",
    "EPOCHS = 10\n",
    "\n",
    "label_map = {\n",
    "    0: 'chat',\n",
    "    1: 'email',\n",
    "    2: 'voice',\n",
    "    3: 'streaming',\n",
    "    4: 'filetransfer',\n",
    "    5: 'p2p'\n",
    "}\n",
    "\n",
    "# Cargar el modelo base ResNet50 sin la capa superior (sin clasificación)\n",
    "base_model = ResNet50(weights=\"imagenet\",\n",
    "                      include_top=False,\n",
    "                      input_shape=(IMG_SIZE[0], IMG_SIZE[1], 3))\n",
    "\n",
    "# Congelar las capas base\n",
    "for layer in base_model.layers:\n",
    "    layer.trainable = False\n",
    "\n",
    "# Añadir las capas de clasificación personalizadas\n",
    "x = base_model.output\n",
    "x = GlobalAveragePooling2D()(x)\n",
    "x = Dense(216, activation=\"relu\")(x)\n",
    "x = Dense(36, activation=\"relu\")(x)\n",
    "x = Dense(6, activation=\"softmax\")(x)  # 6 clases en tu problema\n",
    "\n",
    "# Crear el modelo final\n",
    "model = Model(inputs=base_model.input, outputs=x)\n",
    "model.compile(optimizer=Adam(learning_rate=0.0001),\n",
    "              loss=\"categorical_crossentropy\",\n",
    "              metrics=[\"accuracy\"])\n",
    "history = model.fit(train_dataset, validation_data=val_dataset, epochs=EPOCHS)\n",
    "\n",
    "# ===============================\n",
    "# Evaluación en el conjunto de validación\n",
    "# ===============================\n",
    "# Obtener etiquetas verdaderas a partir del dataset de validación\n",
    "val_labels = []\n",
    "for _, labels in val_dataset:\n",
    "    val_labels.extend(tf.argmax(labels, axis=1).numpy())  # Convertir de one-hot a índice\n",
    "\n",
    "# Predicciones del modelo\n",
    "predictions = model.predict(val_dataset)\n",
    "pred_labels = np.argmax(predictions, axis=1)  # Convertir las predicciones a índices\n",
    "\n",
    "# Matriz de Confusión\n",
    "conf_matrix = confusion_matrix(val_labels, pred_labels)\n",
    "\n",
    "plt.figure(figsize=(8, 6))\n",
    "sns.heatmap(conf_matrix, annot=True, fmt='d', cmap=\"Blues\", xticklabels=label_map.values(), yticklabels=label_map.values())\n",
    "plt.xlabel(\"Predicted Labels\")\n",
    "plt.ylabel(\"True Labels\")\n",
    "plt.title(\"Confusion Matrix\")\n",
    "plt.show()\n",
    "\n",
    "\n",
    "# ===============================\n",
    "# Fine-tuning\n",
    "# ===============================\n",
    "# Descongelar las últimas 25 capas de ResNet50 para fine-tuning\n",
    "for layer in base_model.layers[-25:]:\n",
    "    layer.trainable = False\n",
    "\n",
    "# Reducir el learning rate para fine-tuning\n",
    "model.compile(optimizer=Adam(learning_rate=0.00001), loss=\"categorical_crossentropy\", metrics=[\"accuracy\"])\n",
    "\n",
    "# Entrenar nuevamente con fine-tuning\n",
    "history_finetune = model.fit(train_dataset, validation_data=val_dataset, epochs=3)\n",
    "\n",
    "# Evaluación final con fine-tuning\n",
    "val_labels_finetune = []\n",
    "for _, labels in val_dataset:\n",
    "    val_labels_finetune.extend(tf.argmax(labels, axis=1).numpy())\n",
    "\n",
    "predictions_finetune = model.predict(val_dataset)\n",
    "pred_labels_finetune = np.argmax(predictions_finetune, axis=1)\n",
    "\n",
    "conf_matrix_finetune = confusion_matrix(val_labels_finetune, pred_labels_finetune)\n",
    "\n",
    "plt.figure(figsize=(8, 6))\n",
    "sns.heatmap(conf_matrix_finetune, annot=True, fmt='d', cmap=\"Greens\", xticklabels=label_map.values(), yticklabels=label_map.values())\n",
    "plt.xlabel(\"Predicted Labels\")\n",
    "plt.ylabel(\"True Labels\")\n",
    "plt.title(\"Confusion Matrix After Fine-Tuning\")\n",
    "plt.show()\n",
    "\n",
    "# Evaluación final\n",
    "test_loss, test_acc = model.evaluate(val_dataset)\n",
    "print(f\"Test Accuracy after fine-tuning: {test_acc * 100:.2f}%\")"
   ]
  }
 ],
 "metadata": {
  "kernelspec": {
   "display_name": "pito",
   "language": "python",
   "name": "python3"
  },
  "language_info": {
   "codemirror_mode": {
    "name": "ipython",
    "version": 3
   },
   "file_extension": ".py",
   "mimetype": "text/x-python",
   "name": "python",
   "nbconvert_exporter": "python",
   "pygments_lexer": "ipython3",
   "version": "3.9.21"
  }
 },
 "nbformat": 4,
 "nbformat_minor": 2
}
