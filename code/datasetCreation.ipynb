{
 "cells": [
  {
   "cell_type": "code",
   "execution_count": 2,
   "metadata": {},
   "outputs": [
    {
     "name": "stdout",
     "output_type": "stream",
     "text": [
      "✅ Proceso completado. Las imágenes se han copiado correctamente.\n"
     ]
    }
   ],
   "source": [
    "import os\n",
    "import random\n",
    "import shutil\n",
    "\n",
    "def select_random_images(source_dir, dest_dir, num_images=80000):\n",
    "    \"\"\"\n",
    "    Selecciona aleatoriamente un número específico de imágenes de cada subcarpeta dentro de source_dir\n",
    "    y las copia a dest_dir sin mantener la estructura de subcarpetas.\n",
    "    \n",
    "    :param source_dir: Directorio de origen que contiene las subcarpetas.\n",
    "    :param dest_dir: Directorio de destino donde se guardarán las imágenes.\n",
    "    :param num_images: Número de imágenes a seleccionar por cada subcarpeta.\n",
    "    \"\"\"\n",
    "    if not os.path.exists(dest_dir):\n",
    "        os.makedirs(dest_dir)\n",
    "    \n",
    "    # Obtener las subcarpetas (clases)\n",
    "    class_dirs = [d for d in os.listdir(source_dir) if os.path.isdir(os.path.join(source_dir, d))]\n",
    "    \n",
    "    for class_dir in class_dirs:\n",
    "        class_path = os.path.join(source_dir, class_dir)\n",
    "        images = [f for f in os.listdir(class_path) if f.lower().endswith(('.png', '.jpg', '.jpeg'))]\n",
    "        \n",
    "        if len(images) < num_images:\n",
    "            print(f\"⚠️ Advertencia: La clase {class_dir} tiene menos de {num_images} imágenes ({len(images)} disponibles).\")\n",
    "        \n",
    "        selected_images = random.sample(images, min(num_images, len(images)))\n",
    "        \n",
    "        for img in selected_images:\n",
    "            src_path = os.path.join(class_path, img)\n",
    "            dst_path = os.path.join(dest_dir, img)  # Sin subcarpetas\n",
    "            shutil.copy2(src_path, dst_path)\n",
    "    \n",
    "    print(\"✅ Proceso completado. Las imágenes se han copiado correctamente.\")\n",
    "\n",
    "# Uso del script\n",
    "source_directory = r\"C:\\Users\\migue\\Desktop\\Cositis\\unistuff\\TFG\\mio\\data\\MIX\\mortonOrg\"  # Cambia esto por el directorio de origen con subcarpetas\n",
    "destination_directory = r\"C:\\Users\\migue\\Desktop\\Cositis\\unistuff\\TFG\\mio\\data\\dataframe\\cuatroClases\"  # Cambia esto por el directorio de destino sin subcarpetas\n",
    "select_random_images(source_directory, destination_directory)\n"
   ]
  }
 ],
 "metadata": {
  "kernelspec": {
   "display_name": "pito",
   "language": "python",
   "name": "python3"
  },
  "language_info": {
   "codemirror_mode": {
    "name": "ipython",
    "version": 3
   },
   "file_extension": ".py",
   "mimetype": "text/x-python",
   "name": "python",
   "nbconvert_exporter": "python",
   "pygments_lexer": "ipython3",
   "version": "3.9.21"
  }
 },
 "nbformat": 4,
 "nbformat_minor": 2
}
